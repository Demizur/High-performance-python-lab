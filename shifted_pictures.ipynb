{
 "cells": [
  {
   "cell_type": "code",
   "execution_count": 62,
   "metadata": {},
   "outputs": [],
   "source": [
    "import os\n",
    "import imageio\n",
    "import numpy as np\n",
    "import matplotlib.pyplot as plt\n",
    "\n",
    "from PIL import Image\n",
    "from IPython.display import HTML"
   ]
  },
  {
   "cell_type": "code",
   "execution_count": 67,
   "metadata": {},
   "outputs": [
    {
     "name": "stdout",
     "output_type": "stream",
     "text": [
      "Overwriting shift.py\n"
     ]
    }
   ],
   "source": [
    "%%writefile shift.py\n",
    "\n",
    "import numpy as np\n",
    "import tracemalloc\n",
    "\n",
    "from PIL import Image\n",
    "from mpi4py import MPI\n",
    "\n",
    "tracemalloc.start()\n",
    "\n",
    "comm = MPI.COMM_WORLD\n",
    "size = comm.Get_size()\n",
    "rank = comm.Get_rank()\n",
    "start = MPI.Wtime()\n",
    "H = 387\n",
    "W = 580\n",
    "\n",
    "N_per_pank = H // size\n",
    "\n",
    "data = None\n",
    "\n",
    "if rank == 0:\n",
    "    data = np.array(Image.open('pic.jpg'))\n",
    "    N_per_pank =  H - (N_per_pank * (size - 1))\n",
    "\n",
    "\n",
    "received = np.empty((N_per_pank, W, 3), dtype=np.uint8)\n",
    "sendcounts = np.array(comm.gather(received.size, 0))\n",
    "\n",
    "def roll(arr):\n",
    "    res = np.empty_like(arr)\n",
    "    w = arr.shape[1]\n",
    "    for i in range(w):\n",
    "        res[:, (i + 1) % w] = arr[:, i]\n",
    "    return res\n",
    "    \n",
    "for i in range(W):\n",
    "    comm.Scatterv((data, sendcounts), received, root=0)\n",
    "    received_rolled = roll(received)\n",
    "    comm.Gatherv(received_rolled, (data, sendcounts), root=0)\n",
    "    if rank == 0:\n",
    "        Image.fromarray(data).save(f'images\\{i:0>5d}.jpg')\n",
    "\n",
    "\n",
    "current, peak = tracemalloc.get_traced_memory()\n",
    "tracemalloc.stop()\n",
    "\n",
    "peak = np.array(comm.gather(peak, 0))\n",
    "if rank ==0:\n",
    "    end = MPI.Wtime()\n",
    "    print((end-start))"
   ]
  },
  {
   "cell_type": "code",
   "execution_count": null,
   "metadata": {},
   "outputs": [],
   "source": [
    "!mpiexec -n 1 python shift.py"
   ]
  },
  {
   "cell_type": "code",
   "execution_count": 63,
   "metadata": {},
   "outputs": [
    {
     "data": {
      "text/html": [
       "<img src=\"shift.gif\">"
      ],
      "text/plain": [
       "<IPython.core.display.HTML object>"
      ]
     },
     "execution_count": 63,
     "metadata": {},
     "output_type": "execute_result"
    }
   ],
   "source": [
    "files = [f for f in os.listdir('images') if os.path.isfile(os.path.join('images', f))]\n",
    "files.sort()\n",
    "images = [Image.open('images/' + f) for f in files]\n",
    "\n",
    "imageio.mimsave('shift.gif', images, fps=200)\n",
    "HTML('<img src=\"shift.gif\">')"
   ]
  },
  {
   "cell_type": "code",
   "execution_count": null,
   "metadata": {},
   "outputs": [],
   "source": [
    "exe_time = []\n",
    "N_processes = np.arange(1,11)\n",
    "for i in N_processes:\n",
    "    add = %timeit !mpiexec -n {i} python shift.py\n",
    "    exe_time.append(float(add[0]))\n",
    "    print(f\"Process {i} with time {add[0]}\")"
   ]
  },
  {
   "cell_type": "code",
   "execution_count": null,
   "metadata": {},
   "outputs": [],
   "source": [
    "#Plot the speedup vs number of processors \n",
    "plt.plot(N_processes,  exe_time[0] / np.array(exe_time))\n",
    "plt.title('Speedup vs number of processes')\n",
    "plt.xlabel('Number of processes')\n",
    "plt.ylabel('Speedup')\n",
    "plt.grid(True)"
   ]
  }
 ],
 "metadata": {
  "interpreter": {
   "hash": "07efdcd4b820c98a756949507a4d29d7862823915ec7477944641bea022f4f62"
  },
  "kernelspec": {
   "display_name": "Python 3.8.11 64-bit ('base': conda)",
   "language": "python",
   "name": "python3"
  },
  "language_info": {
   "codemirror_mode": {
    "name": "ipython",
    "version": 3
   },
   "file_extension": ".py",
   "mimetype": "text/x-python",
   "name": "python",
   "nbconvert_exporter": "python",
   "pygments_lexer": "ipython3",
   "version": "3.8.11"
  },
  "orig_nbformat": 4
 },
 "nbformat": 4,
 "nbformat_minor": 2
}
